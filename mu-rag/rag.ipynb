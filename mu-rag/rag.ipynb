{
 "cells": [
  {
   "cell_type": "code",
   "execution_count": 38,
   "metadata": {},
   "outputs": [],
   "source": [
    "import os\n",
    "from dotenv import load_dotenv\n",
    "\n",
    "load_dotenv()\n",
    "\n",
    "OPENAI_API_KEY = os.getenv(\"OPENAI_API_KEY\")\n",
    "\n",
    "YOUTUBE_VIDEO = \"https://www.youtube.com/watch?v=cdiD-9MMpb0\""
   ]
  },
  {
   "cell_type": "code",
   "execution_count": 27,
   "metadata": {},
   "outputs": [],
   "source": [
    "from langchain_openai.chat_models import ChatOpenAI\n",
    "\n",
    "model = ChatOpenAI(openai_api_key=OPENAI_API_KEY, model=\"gpt-3.5-turbo\")"
   ]
  },
  {
   "cell_type": "code",
   "execution_count": 28,
   "metadata": {},
   "outputs": [
    {
     "data": {
      "text/plain": [
       "AIMessage(content='Berlin is the capital city of Germany, located in the northeastern part of the country.', additional_kwargs={'refusal': None}, response_metadata={'token_usage': {'completion_tokens': 17, 'prompt_tokens': 11, 'total_tokens': 28, 'completion_tokens_details': {'audio_tokens': None, 'reasoning_tokens': 0}, 'prompt_tokens_details': {'audio_tokens': None, 'cached_tokens': 0}}, 'model_name': 'gpt-3.5-turbo-0125', 'system_fingerprint': None, 'finish_reason': 'stop', 'logprobs': None}, id='run-6895b6a1-3c44-48f2-80bd-53fd79b24a6e-0', usage_metadata={'input_tokens': 11, 'output_tokens': 17, 'total_tokens': 28})"
      ]
     },
     "execution_count": 28,
     "metadata": {},
     "output_type": "execute_result"
    }
   ],
   "source": [
    "model.invoke(\"Where is Berlin?\")"
   ]
  },
  {
   "cell_type": "code",
   "execution_count": 29,
   "metadata": {},
   "outputs": [
    {
     "data": {
      "text/plain": [
       "'Berlin is the capital city of Germany and is located in the northeastern part of the country.'"
      ]
     },
     "execution_count": 29,
     "metadata": {},
     "output_type": "execute_result"
    }
   ],
   "source": [
    "from langchain_core.output_parsers import StrOutputParser\n",
    "\n",
    "parser = StrOutputParser()\n",
    "\n",
    "chain = model | parser\n",
    "chain.invoke(\"Where is Berlin?\")"
   ]
  },
  {
   "cell_type": "code",
   "execution_count": 30,
   "metadata": {},
   "outputs": [
    {
     "data": {
      "text/plain": [
       "'Human: \\nAnswer the question based on the context below. If you can\\'t \\nanswer the question, reply \"I don\\'t know\".\\n\\nContext: Maksym is a software engineer\\n\\nQuestion: What is Maksym\\'s job?\\n'"
      ]
     },
     "execution_count": 30,
     "metadata": {},
     "output_type": "execute_result"
    }
   ],
   "source": [
    "from langchain.prompts import ChatPromptTemplate\n",
    "\n",
    "template = \"\"\"\n",
    "Answer the question based on the context below. If you can't \n",
    "answer the question, reply \"I don't know\".\n",
    "\n",
    "Context: {context}\n",
    "\n",
    "Question: {question}\n",
    "\"\"\"\n",
    "\n",
    "prompt = ChatPromptTemplate.from_template(template)\n",
    "prompt.format(context=\"Maksym is a software engineer\", question=\"What is Maksym's job?\")"
   ]
  },
  {
   "cell_type": "code",
   "execution_count": 31,
   "metadata": {},
   "outputs": [
    {
     "data": {
      "text/plain": [
       "\"Maksym's job is a software engineer.\""
      ]
     },
     "execution_count": 31,
     "metadata": {},
     "output_type": "execute_result"
    }
   ],
   "source": [
    "chain = prompt | model | parser\n",
    "chain.invoke({\n",
    "    \"context\": \"Maksym is a software engineer\",\n",
    "    \"question\": \"What is Maksym's job?\"\n",
    "})"
   ]
  },
  {
   "cell_type": "code",
   "execution_count": 32,
   "metadata": {},
   "outputs": [],
   "source": [
    "translation_prompt = ChatPromptTemplate.from_template(\n",
    "    \"Translate {answer} to {language}\"\n",
    ")"
   ]
  },
  {
   "cell_type": "code",
   "execution_count": 33,
   "metadata": {},
   "outputs": [
    {
     "data": {
      "text/plain": [
       "'Alina hat zwei Jobs.'"
      ]
     },
     "execution_count": 33,
     "metadata": {},
     "output_type": "execute_result"
    }
   ],
   "source": [
    "from operator import itemgetter\n",
    "\n",
    "translation_chain = (\n",
    "    {\"answer\": chain, \"language\": itemgetter(\"language\")} | translation_prompt | model | parser\n",
    ")\n",
    "\n",
    "translation_chain.invoke(\n",
    "    {\n",
    "        \"context\": \"Alina works at Schulflix and meinUnterricht\",\n",
    "        \"question\": \"How many jobs does Alina have?\",\n",
    "        \"language\": \"German\",\n",
    "    }\n",
    ")"
   ]
  },
  {
   "cell_type": "code",
   "execution_count": 40,
   "metadata": {},
   "outputs": [],
   "source": [
    "import tempfile\n",
    "import whisper\n",
    "from pytube import YouTube\n",
    "\n",
    "\n",
    "# Let's do this only if we haven't created the transcription file yet.\n",
    "if not os.path.exists(\"transcription.txt\"):\n",
    "    youtube = YouTube(YOUTUBE_VIDEO)\n",
    "    audio = youtube.streams.filter(only_audio=True).first()\n",
    "\n",
    "    # Let's load the base model. This is not the most accurate\n",
    "    # model but it's fast.\n",
    "    whisper_model = whisper.load_model(\"base\")\n",
    "\n",
    "    with tempfile.TemporaryDirectory() as tmpdir:\n",
    "        file = audio.download(output_path=tmpdir)\n",
    "        transcription = whisper_model.transcribe(file, fp16=False)[\"text\"].strip()\n",
    "\n",
    "        with open(\"transcription.txt\", \"w\") as file:\n",
    "            file.write(transcription)"
   ]
  },
  {
   "cell_type": "code",
   "execution_count": 42,
   "metadata": {},
   "outputs": [
    {
     "data": {
      "text/plain": [
       "'Ist die Tomate ein Obst oder Gemüse?\\nIm Supermarkt finden wir die Tomate in der Gemüseabteilung. Doc'"
      ]
     },
     "execution_count": 42,
     "metadata": {},
     "output_type": "execute_result"
    }
   ],
   "source": [
    "with open(\"transcription.txt\") as file:\n",
    "    transcription = file.read()\n",
    "\n",
    "transcription[:100]"
   ]
  },
  {
   "cell_type": "code",
   "execution_count": 44,
   "metadata": {},
   "outputs": [],
   "source": [
    "try:\n",
    "    chain.invoke({\n",
    "        \"context\": transcription,\n",
    "        \"question\": \"Tomate Obst oder Gemüse?\"\n",
    "    })\n",
    "except Exception as e:\n",
    "    print(e)"
   ]
  },
  {
   "cell_type": "code",
   "execution_count": 45,
   "metadata": {},
   "outputs": [
    {
     "data": {
      "text/plain": [
       "[Document(metadata={'source': 'transcription.txt'}, page_content='Ist die Tomate ein Obst oder Gemüse?\\nIm Supermarkt finden wir die Tomate in der Gemüseabteilung. Doch liegt sie da richtig? Schauen wir uns das mal an.\\nDu bist auf der Suche nach einer passenden Ausbildung? Dann komm aufs studyfl.de und findet 10.000 offene Ausbildungsstellen.\\nTomate ganz klar Gemüse. Das würden wahrscheinlich die meisten Menschen antworten, wenn sie auf der Straße gefragt werden. Doch ist die Antwort wirklich so einfach? So eindeutig wie die Einteilung der Tomate auf den ersten Blick erscheint, ist sie nämlich leider nicht. Denn eigentlich ist die Tomate beides Obst und Gemüse. Doch wieso ist das so?\\nTatsächlich gibt es mehrere Kriterien, nach denen Lebensmittel zum Obst oder zum Gemüse zugeordnet werden. Gärtner teilen Pflanzen immer nach den äußeren Merkmalen, also nach den botanischen Kriterien, ein. In der Küche sind die botanischen Kriterien jedoch weniger von Interesse und es zählt mehr der Geschmack und die Art der Zubereitung. Das sind die kulinarischen Kriterien. Gärtner stellen sich bei der Einteilung in Obst und Gemüse vor allem zwei Fragen: Wie alt kann die Pflanze werden und welche Teile davon ist man? Ist die Pflanze älter als zwei Jahre alt, also eine mehrjährige Pflanze, dann handelt es sich wahrscheinlich um eine Obstpflanze. Das können Bäume oder Sträucher sein, die mehrere Jahre oder Jahrzehnte leben. Jedes Jahr bekommen die Pflanzen Blüten, aus denen sich nach der Bestäubung Früchte bilden. Die Früchte essen wir als Obst, dazu gehören zum Beispiel Äpfel, Pflaumen oder Orangen. Wenn die Pflanze hingegen nach ein oder zwei Jahren abstirbt und jedes Jahr neu ausgesät werden muss, dann hat der Gärtner eine Gemüsepflanze vor sich. Hinzu kommt, dass hier vor allem andere Pflanzenteile wie Stengel, Wurzeln oder Blätter geerntet und gegessen werden. Das ist zum Beispiel bei Karotten, Sellerie oder Spinat der Fall. Doch wozu gehört nun die Tomate?\\nTomaten bilden sich als Früchte aus der bestäubten Blüte der Pflanze. Demnach müssten sie ja eigentlich zum Obst gehören. Dagegen spricht jedoch das Alter der Tomatenpflanzen, denn sie sind einjährig und müssen jedes Jahr neu ausgesät werden. Somit hat die Tomate nach den botanischen Kriterien sowohl Eigenschaften von Obst als auch von Gemüse. Vielleicht können die kulinarischen Kriterien ja Klarheit schaffen. In der Küche ist es nicht so wichtig, wie alt eine Pflanze ist oder welche Teile von ihr gegessen werden. Hier spielen vor allem der Geschmack und die Art der Zubereitung eine Rolle. Obst schmeckt in der Regel süßlich, daher wird es oft für Nachspeisen wie beispielsweise in Kuchen oder Marmeladen verwendet. Aber wir essen Obst auch gerne roh. Gemüse hingegen passt eher zu salzigen Speisen und wird meistens gekocht. Außerdem schmeckt es eher wässrig und weniger süß. Und welches Kriterium trifft nun auf die Tomate zu? Natürlich können kleinere Tomaten auch süßlich schmecken, aber so süß wie eine Himbeere oder ein Apfel sind sie bei weitem nicht. Und auch wenn Tomaten roh ziemlich lecker sind, würden die meisten wahrscheinlich zustimmen, dass sie eher zu salzigen Gerichten als in den Kuchen passen. Nach der kulinarischen Einteilung gehört die Tomate also ganz klar zum Gemüse. Doch welche Einteilung ist denn nun die richtige? Jede der beiden Definitionen hat ihren ganz eigenen Zweck. Für einen Gärtner oder einen Botaniker ist die botanische Einteilung interessant. Sie hilft dabei, unterschiedliche Arten voneinander zu unterscheiden und das Anbauen und Ernten von Tomaten zu erleichtern. In der Küche und für die breite Öffentlichkeit ist hingegen die kulinarische Einteilung passender. Sie gibt Hinweise auf die Art der Zubereitung und die Nährstoffzusammensetzung der Pflanze. Aufgrund der botanischen und kulinarischen Widersprüche gibt es für Lebensmittel wie die Tomate die Bezeichnung \"Fruchtgemüse\". Dieser Begriff umfasst alle Pflanzen, die aus einer bestäubten Blüte entstehen und trotzdem zum Gemüse gehören. Dazu zählen neben der Tomate auch andere Pflanzen wie beispielsweise Gurke, Paprika, Aubergine, Zucchini, Kürbis und Erbse. Doch egal ob nun Obst oder Gemüse, fest steht: Tomaten sind gesund. Sie liefern uns wichtige Vitamine, Mineralien und Ballaststoffe, deswegen tragen sie auch zu den täglichen 5 Portionen an Obst und Gemüse bei, die von der Deutschen Gesellschaft für Ernährung empfohlen werden.\\nNeben der Tomate gibt es noch viele weitere Lebensmittel, die schwer einzuordnen sind. Wusstest du zum Beispiel, dass die Erdbeere eigentlich gar keine Beere ist? Viel mehr gehört sie zu den Sammelnussfrüchten. Was ist damit auf sich hat, erklären wir dir in unserem Video dazu. Hat das Video gefallen, dann komm aufs Dagi flicks.de und findet den Beruf, der genau zu dir passt.')]"
      ]
     },
     "execution_count": 45,
     "metadata": {},
     "output_type": "execute_result"
    }
   ],
   "source": [
    "from langchain_community.document_loaders import TextLoader\n",
    "\n",
    "loader = TextLoader(\"transcription.txt\")\n",
    "text_documents = loader.load()\n",
    "text_documents"
   ]
  },
  {
   "cell_type": "code",
   "execution_count": 46,
   "metadata": {},
   "outputs": [
    {
     "data": {
      "text/plain": [
       "[Document(metadata={'source': 'transcription.txt'}, page_content='Ist die Tomate ein Obst oder Gemüse?'),\n",
       " Document(metadata={'source': 'transcription.txt'}, page_content='Im Supermarkt finden wir die Tomate in der Gemüseabteilung. Doch liegt sie da richtig? Schauen wir'),\n",
       " Document(metadata={'source': 'transcription.txt'}, page_content='Schauen wir uns das mal an.'),\n",
       " Document(metadata={'source': 'transcription.txt'}, page_content='Du bist auf der Suche nach einer passenden Ausbildung? Dann komm aufs studyfl.de und findet 10.000'),\n",
       " Document(metadata={'source': 'transcription.txt'}, page_content='und findet 10.000 offene Ausbildungsstellen.')]"
      ]
     },
     "execution_count": 46,
     "metadata": {},
     "output_type": "execute_result"
    }
   ],
   "source": [
    "from langchain.text_splitter import RecursiveCharacterTextSplitter\n",
    "\n",
    "text_splitter = RecursiveCharacterTextSplitter(chunk_size=100, chunk_overlap=20)\n",
    "text_splitter.split_documents(text_documents)[:5]"
   ]
  },
  {
   "cell_type": "code",
   "execution_count": 47,
   "metadata": {},
   "outputs": [],
   "source": [
    "text_splitter = RecursiveCharacterTextSplitter(chunk_size=1000, chunk_overlap=20)\n",
    "documents = text_splitter.split_documents(text_documents)"
   ]
  },
  {
   "cell_type": "code",
   "execution_count": 48,
   "metadata": {},
   "outputs": [
    {
     "name": "stdout",
     "output_type": "stream",
     "text": [
      "Embedding length: 1536\n",
      "[0.012111732736229897, -0.018987061455845833, -0.021503256633877754, -0.024223465472459793, -0.019150273874402046, 0.015668407082557678, -0.05353372171521187, 0.010948843322694302, -0.005137795582413673, -0.01100324746221304]\n"
     ]
    }
   ],
   "source": [
    "from langchain_openai.embeddings import OpenAIEmbeddings\n",
    "\n",
    "embeddings = OpenAIEmbeddings()\n",
    "embedded_query = embeddings.embed_query(\"Where does Alina work?\")\n",
    "\n",
    "print(f\"Embedding length: {len(embedded_query)}\")\n",
    "print(embedded_query[:10])"
   ]
  },
  {
   "cell_type": "code",
   "execution_count": 49,
   "metadata": {},
   "outputs": [],
   "source": [
    "sentence1 = embeddings.embed_query(\"Alina works at Schulflix and meinUnterricht\")\n",
    "sentence2 = embeddings.embed_query(\"Maksym is a software engineer\")"
   ]
  },
  {
   "cell_type": "code",
   "execution_count": 50,
   "metadata": {},
   "outputs": [
    {
     "data": {
      "text/plain": [
       "(0.8795154849803621, 0.7823709884681839)"
      ]
     },
     "execution_count": 50,
     "metadata": {},
     "output_type": "execute_result"
    }
   ],
   "source": [
    "from sklearn.metrics.pairwise import cosine_similarity\n",
    "\n",
    "query_sentence1_similarity = cosine_similarity([embedded_query], [sentence1])[0][0]\n",
    "query_sentence2_similarity = cosine_similarity([embedded_query], [sentence2])[0][0]\n",
    "\n",
    "query_sentence1_similarity, query_sentence2_similarity"
   ]
  },
  {
   "cell_type": "code",
   "execution_count": 51,
   "metadata": {},
   "outputs": [],
   "source": [
    "from langchain_community.vectorstores import DocArrayInMemorySearch\n",
    "\n",
    "vectorstore1 = DocArrayInMemorySearch.from_texts(\n",
    "    [\n",
    "        \"Laura in lives Berlin\",\n",
    "        \"Maksym lives in Bavaria\",\n",
    "        \"Christian lives in Berlin\",\n",
    "        \"Alina lives in Kölln\",\n",
    "        \"Laura is a Marketing expert\",\n",
    "        \"Maksym knows four languages\",\n",
    "    ],\n",
    "    embedding=embeddings,\n",
    ")"
   ]
  },
  {
   "cell_type": "code",
   "execution_count": 53,
   "metadata": {},
   "outputs": [
    {
     "data": {
      "text/plain": [
       "[(Document(page_content='Maksym knows four languages'), 0.9127768608432575),\n",
       " (Document(page_content='Maksym lives in Bavaria'), 0.883141742360861),\n",
       " (Document(page_content='Alina lives in Kölln'), 0.7666814374372494)]"
      ]
     },
     "execution_count": 53,
     "metadata": {},
     "output_type": "execute_result"
    }
   ],
   "source": [
    "vectorstore1.similarity_search_with_score(query=\"What does Maksym know?\", k=3)"
   ]
  },
  {
   "cell_type": "code",
   "execution_count": 54,
   "metadata": {},
   "outputs": [
    {
     "data": {
      "text/plain": [
       "[Document(page_content='Laura in lives Berlin'),\n",
       " Document(page_content='Laura is a Marketing expert'),\n",
       " Document(page_content='Alina lives in Kölln'),\n",
       " Document(page_content='Christian lives in Berlin')]"
      ]
     },
     "execution_count": 54,
     "metadata": {},
     "output_type": "execute_result"
    }
   ],
   "source": [
    "retriever1 = vectorstore1.as_retriever()\n",
    "retriever1.invoke(\"Where does Laura live?\")"
   ]
  },
  {
   "cell_type": "code",
   "execution_count": 55,
   "metadata": {},
   "outputs": [
    {
     "data": {
      "text/plain": [
       "{'context': [Document(page_content='Maksym knows four languages'),\n",
       "  Document(page_content='Maksym lives in Bavaria'),\n",
       "  Document(page_content='Alina lives in Kölln'),\n",
       "  Document(page_content='Christian lives in Berlin')],\n",
       " 'question': 'What language does Maksym know?'}"
      ]
     },
     "execution_count": 55,
     "metadata": {},
     "output_type": "execute_result"
    }
   ],
   "source": [
    "from langchain_core.runnables import RunnableParallel, RunnablePassthrough\n",
    "\n",
    "setup = RunnableParallel(context=retriever1, question=RunnablePassthrough())\n",
    "setup.invoke(\"What language does Maksym know?\")"
   ]
  },
  {
   "cell_type": "code",
   "execution_count": 56,
   "metadata": {},
   "outputs": [
    {
     "data": {
      "text/plain": [
       "'Laura is a Marketing expert.'"
      ]
     },
     "execution_count": 56,
     "metadata": {},
     "output_type": "execute_result"
    }
   ],
   "source": [
    "chain = setup | prompt | model | parser\n",
    "chain.invoke(\"What's Laura's job?\")"
   ]
  },
  {
   "cell_type": "code",
   "execution_count": 57,
   "metadata": {},
   "outputs": [],
   "source": [
    "vectorstore2 = DocArrayInMemorySearch.from_documents(documents, embeddings)"
   ]
  },
  {
   "cell_type": "code",
   "execution_count": 58,
   "metadata": {},
   "outputs": [
    {
     "data": {
      "text/plain": [
       "'Die Tomate gehört sowohl zu Obst als auch zu Gemüse.'"
      ]
     },
     "execution_count": 58,
     "metadata": {},
     "output_type": "execute_result"
    }
   ],
   "source": [
    "chain = (\n",
    "    {\"context\": vectorstore2.as_retriever(), \"question\": RunnablePassthrough()}\n",
    "    | prompt\n",
    "    | model\n",
    "    | parser\n",
    ")\n",
    "chain.invoke(\"Tomate Obst oder Gemüse?\")"
   ]
  },
  {
   "cell_type": "code",
   "execution_count": 61,
   "metadata": {},
   "outputs": [],
   "source": [
    "from langchain_pinecone import PineconeVectorStore\n",
    "\n",
    "index_name = \"mu-rag-index\"\n",
    "\n",
    "pinecone = PineconeVectorStore.from_documents(\n",
    "    documents, embeddings, index_name=index_name\n",
    ")"
   ]
  },
  {
   "cell_type": "code",
   "execution_count": 62,
   "metadata": {},
   "outputs": [
    {
     "data": {
      "text/plain": [
       "[Document(metadata={'source': 'transcription.txt'}, page_content='Tatsächlich gibt es mehrere Kriterien, nach denen Lebensmittel zum Obst oder zum Gemüse zugeordnet werden. Gärtner teilen Pflanzen immer nach den äußeren Merkmalen, also nach den botanischen Kriterien, ein. In der Küche sind die botanischen Kriterien jedoch weniger von Interesse und es zählt mehr der Geschmack und die Art der Zubereitung. Das sind die kulinarischen Kriterien. Gärtner stellen sich bei der Einteilung in Obst und Gemüse vor allem zwei Fragen: Wie alt kann die Pflanze werden und welche Teile davon ist man? Ist die Pflanze älter als zwei Jahre alt, also eine mehrjährige Pflanze, dann handelt es sich wahrscheinlich um eine Obstpflanze. Das können Bäume oder Sträucher sein, die mehrere Jahre oder Jahrzehnte leben. Jedes Jahr bekommen die Pflanzen Blüten, aus denen sich nach der Bestäubung Früchte bilden. Die Früchte essen wir als Obst, dazu gehören zum Beispiel Äpfel, Pflaumen oder Orangen. Wenn die Pflanze hingegen nach ein oder zwei Jahren abstirbt und jedes Jahr neu'),\n",
       " Document(metadata={'source': 'transcription.txt'}, page_content='schmecken, aber so süß wie eine Himbeere oder ein Apfel sind sie bei weitem nicht. Und auch wenn Tomaten roh ziemlich lecker sind, würden die meisten wahrscheinlich zustimmen, dass sie eher zu salzigen Gerichten als in den Kuchen passen. Nach der kulinarischen Einteilung gehört die Tomate also ganz klar zum Gemüse. Doch welche Einteilung ist denn nun die richtige? Jede der beiden Definitionen hat ihren ganz eigenen Zweck. Für einen Gärtner oder einen Botaniker ist die botanische Einteilung interessant. Sie hilft dabei, unterschiedliche Arten voneinander zu unterscheiden und das Anbauen und Ernten von Tomaten zu erleichtern. In der Küche und für die breite Öffentlichkeit ist hingegen die kulinarische Einteilung passender. Sie gibt Hinweise auf die Art der Zubereitung und die Nährstoffzusammensetzung der Pflanze. Aufgrund der botanischen und kulinarischen Widersprüche gibt es für Lebensmittel wie die Tomate die Bezeichnung \"Fruchtgemüse\". Dieser Begriff umfasst alle Pflanzen, die aus'),\n",
       " Document(metadata={'source': 'transcription.txt'}, page_content='und jedes Jahr neu ausgesät werden muss, dann hat der Gärtner eine Gemüsepflanze vor sich. Hinzu kommt, dass hier vor allem andere Pflanzenteile wie Stengel, Wurzeln oder Blätter geerntet und gegessen werden. Das ist zum Beispiel bei Karotten, Sellerie oder Spinat der Fall. Doch wozu gehört nun die Tomate?')]"
      ]
     },
     "execution_count": 62,
     "metadata": {},
     "output_type": "execute_result"
    }
   ],
   "source": [
    "pinecone.similarity_search(\"Was ist die botanische Klassifizierung?\")[:3]"
   ]
  },
  {
   "cell_type": "code",
   "execution_count": 63,
   "metadata": {},
   "outputs": [
    {
     "data": {
      "text/plain": [
       "'Die Tomate ist sowohl Obst als auch Gemüse.'"
      ]
     },
     "execution_count": 63,
     "metadata": {},
     "output_type": "execute_result"
    }
   ],
   "source": [
    "chain = (\n",
    "    {\"context\": pinecone.as_retriever(), \"question\": RunnablePassthrough()}\n",
    "    | prompt\n",
    "    | model\n",
    "    | parser\n",
    ")\n",
    "\n",
    "chain.invoke(\"Ist die Tomate ein Gemüse?\")"
   ]
  },
  {
   "cell_type": "code",
   "execution_count": null,
   "metadata": {},
   "outputs": [],
   "source": []
  }
 ],
 "metadata": {
  "kernelspec": {
   "display_name": ".venv",
   "language": "python",
   "name": "python3"
  },
  "language_info": {
   "codemirror_mode": {
    "name": "ipython",
    "version": 3
   },
   "file_extension": ".py",
   "mimetype": "text/x-python",
   "name": "python",
   "nbconvert_exporter": "python",
   "pygments_lexer": "ipython3",
   "version": "3.12.2"
  }
 },
 "nbformat": 4,
 "nbformat_minor": 2
}
